{
 "cells": [
  {
   "cell_type": "markdown",
   "id": "e9600524",
   "metadata": {},
   "source": [
    "# Edit Your Expectation Suite\n",
    "Use this notebook to recreate and modify your expectation suite:\n",
    "\n",
    "**Expectation Suite Name**: `izykov.ods_issue.warning`\n",
    "\n",
    "We'd love it if you **reach out to us on** the [**Great Expectations Slack Channel**](https://greatexpectations.io/slack)"
   ]
  },
  {
   "cell_type": "code",
   "execution_count": null,
   "id": "b3380ae1",
   "metadata": {},
   "outputs": [],
   "source": [
    "import datetime\n",
    "import great_expectations as ge\n",
    "import great_expectations.jupyter_ux\n",
    "from great_expectations.checkpoint import LegacyCheckpoint\n",
    "from great_expectations.data_context.types.resource_identifiers import ValidationResultIdentifier\n",
    "\n",
    "context = ge.data_context.DataContext()\n",
    "\n",
    "# Feel free to change the name of your suite here. Renaming this will not\n",
    "# remove the other one.\n",
    "expectation_suite_name = \"izykov.ods_issue.warning\"\n",
    "suite = context.get_expectation_suite(expectation_suite_name)\n",
    "suite.expectations = []\n",
    "\n",
    "batch_kwargs = {'data_asset_name': 'izykov.ods_issue', 'datasource': 'greplu', 'limit': 1000, 'schema': 'izykov', 'table': 'p_ods_issue'}\n",
    "batch = context.get_batch(batch_kwargs, suite)\n",
    "batch.head()"
   ]
  },
  {
   "cell_type": "markdown",
   "id": "19faeae7",
   "metadata": {},
   "source": [
    "## Create & Edit Expectations\n",
    "\n",
    "Add expectations by calling specific expectation methods on the `batch` object. They all begin with `.expect_` which makes autocompleting easy using tab.\n",
    "\n",
    "You can see all the available expectations in the **[expectation glossary](https://docs.greatexpectations.io/en/latest/reference/glossary_of_expectations.html?utm_source=notebook&utm_medium=create_expectations)**."
   ]
  },
  {
   "cell_type": "markdown",
   "id": "ec7f8d13",
   "metadata": {},
   "source": [
    "### Table Expectation(s)"
   ]
  },
  {
   "cell_type": "markdown",
   "id": "cfddd171",
   "metadata": {},
   "source": [
    "No table level expectations are in this suite. Feel free to add some here. They all begin with `batch.expect_table_...`."
   ]
  },
  {
   "cell_type": "markdown",
   "id": "e0445e36",
   "metadata": {},
   "source": [
    "### Column Expectation(s)"
   ]
  },
  {
   "cell_type": "markdown",
   "id": "1659637d",
   "metadata": {},
   "source": [
    "#### `user_id`"
   ]
  },
  {
   "cell_type": "code",
   "execution_count": null,
   "id": "4e88acf0",
   "metadata": {},
   "outputs": [],
   "source": [
    "batch.expect_column_values_to_not_be_null(column='user_id')"
   ]
  },
  {
   "cell_type": "code",
   "execution_count": null,
   "id": "ca74a467",
   "metadata": {},
   "outputs": [],
   "source": [
    "batch.expect_column_values_to_be_of_type(column='user_id', type_='INTEGER')"
   ]
  },
  {
   "cell_type": "markdown",
   "id": "ccd4773b",
   "metadata": {},
   "source": [
    "#### `start_time`"
   ]
  },
  {
   "cell_type": "code",
   "execution_count": null,
   "id": "b3bef652",
   "metadata": {},
   "outputs": [],
   "source": [
    "batch.expect_column_values_to_not_be_null(column='start_time')"
   ]
  },
  {
   "cell_type": "code",
   "execution_count": null,
   "id": "9329dc52",
   "metadata": {},
   "outputs": [],
   "source": [
    "batch.expect_column_values_to_be_of_type(column='start_time', type_='TIMESTAMP')"
   ]
  },
  {
   "cell_type": "code",
   "execution_count": null,
   "id": "3933731e",
   "metadata": {},
   "outputs": [],
   "source": [
    "batch.expect_column_values_to_be_between(column='start_time', max_value='2022-01-01', min_value='2013-01-01')"
   ]
  },
  {
   "cell_type": "markdown",
   "id": "7f971a91",
   "metadata": {},
   "source": [
    "#### `end_time`"
   ]
  },
  {
   "cell_type": "code",
   "execution_count": null,
   "id": "fcd18630",
   "metadata": {},
   "outputs": [],
   "source": [
    "batch.expect_column_values_to_not_be_null(column='end_time')"
   ]
  },
  {
   "cell_type": "code",
   "execution_count": null,
   "id": "adc795f7",
   "metadata": {},
   "outputs": [],
   "source": [
    "batch.expect_column_values_to_be_of_type(column='end_time', type_='TIMESTAMP')"
   ]
  },
  {
   "cell_type": "code",
   "execution_count": null,
   "id": "ee488221",
   "metadata": {},
   "outputs": [],
   "source": [
    "batch.expect_column_values_to_be_between(column='end_time', max_value='2022-01-01', min_value='2013-01-01')"
   ]
  },
  {
   "cell_type": "markdown",
   "id": "91d66997",
   "metadata": {},
   "source": [
    "#### `title`"
   ]
  },
  {
   "cell_type": "code",
   "execution_count": null,
   "id": "98a1956a",
   "metadata": {},
   "outputs": [],
   "source": [
    "batch.expect_column_values_to_not_be_null(column='title')"
   ]
  },
  {
   "cell_type": "code",
   "execution_count": null,
   "id": "7654a36d",
   "metadata": {},
   "outputs": [],
   "source": [
    "batch.expect_column_values_to_be_of_type(column='title', type_='TEXT')"
   ]
  },
  {
   "cell_type": "markdown",
   "id": "071c0323",
   "metadata": {},
   "source": [
    "#### `service`"
   ]
  },
  {
   "cell_type": "code",
   "execution_count": null,
   "id": "963912cc",
   "metadata": {},
   "outputs": [],
   "source": [
    "batch.expect_column_values_to_not_be_null(column='service')"
   ]
  },
  {
   "cell_type": "code",
   "execution_count": null,
   "id": "8c4ef9a1",
   "metadata": {},
   "outputs": [],
   "source": [
    "batch.expect_column_values_to_be_of_type(column='service', type_='TEXT')"
   ]
  },
  {
   "cell_type": "code",
   "execution_count": null,
   "id": "241f26c1",
   "metadata": {},
   "outputs": [],
   "source": [
    "batch.expect_column_distinct_values_to_be_in_set(column='service', value_set=['Setup Environment', 'Connect', 'Disconnect'])"
   ]
  },
  {
   "cell_type": "markdown",
   "id": "177b953a",
   "metadata": {},
   "source": [
    "## Save & Review Your Expectations\n",
    "\n",
    "Let's save the expectation suite as a JSON file in the `great_expectations/expectations` directory of your project.\n",
    "If you decide not to save some expectations that you created, use [remove_expectation method](https://docs.greatexpectations.io/en/latest/autoapi/great_expectations/data_asset/index.html?highlight=remove_expectation&utm_source=notebook&utm_medium=edit_expectations#great_expectations.data_asset.DataAsset.remove_expectation).\n",
    "\n",
    "Let's now rebuild your Data Docs, which helps you communicate about your data with both machines and humans."
   ]
  },
  {
   "cell_type": "code",
   "execution_count": null,
   "id": "39386038",
   "metadata": {},
   "outputs": [],
   "source": [
    "batch.save_expectation_suite(discard_failed_expectations=False)\n",
    "\n",
    "results = LegacyCheckpoint(\n",
    "    name=\"_temp_checkpoint\",\n",
    "    data_context=context,\n",
    "    batches=[\n",
    "        {\n",
    "          \"batch_kwargs\": batch_kwargs,\n",
    "          \"expectation_suite_names\": [expectation_suite_name]\n",
    "        }\n",
    "    ]\n",
    ").run()\n",
    "validation_result_identifier = results.list_validation_result_identifiers()[0]\n",
    "context.build_data_docs()\n",
    "context.open_data_docs(validation_result_identifier)"
   ]
  }
 ],
 "metadata": {},
 "nbformat": 4,
 "nbformat_minor": 5
}
