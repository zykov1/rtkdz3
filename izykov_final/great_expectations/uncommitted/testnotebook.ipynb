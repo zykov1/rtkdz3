{
 "cells": [
  {
   "cell_type": "markdown",
   "id": "824f93ec",
   "metadata": {},
   "source": [
    "# Edit Your Expectation Suite\n",
    "Use this notebook to recreate and modify your expectation suite:\n",
    "\n",
    "**Expectation Suite Name**: `izykov.ods_payment.warning`\n",
    "\n",
    "We'd love it if you **reach out to us on** the [**Great Expectations Slack Channel**](https://greatexpectations.io/slack)"
   ]
  },
  {
   "cell_type": "code",
   "execution_count": null,
   "id": "bac67296",
   "metadata": {},
   "outputs": [],
   "source": [
    "import datetime\n",
    "import great_expectations as ge\n",
    "import great_expectations.jupyter_ux\n",
    "from great_expectations.checkpoint import LegacyCheckpoint\n",
    "from great_expectations.data_context.types.resource_identifiers import ValidationResultIdentifier\n",
    "\n",
    "context = ge.data_context.DataContext()\n",
    "\n",
    "# Feel free to change the name of your suite here. Renaming this will not\n",
    "# remove the other one.\n",
    "expectation_suite_name = \"izykov.ods_payment.warning\"\n",
    "suite = context.get_expectation_suite(expectation_suite_name)\n",
    "suite.expectations = []\n",
    "\n",
    "batch_kwargs = {'data_asset_name': 'izykov.ods_payment', 'datasource': 'greplu', 'limit': 1000, 'schema': 'izykov', 'table': 'p_ods_payment'}\n",
    "batch = context.get_batch(batch_kwargs, suite)\n",
    "batch.head()"
   ]
  },
  {
   "cell_type": "markdown",
   "id": "9e172165",
   "metadata": {},
   "source": [
    "## Create & Edit Expectations\n",
    "\n",
    "Add expectations by calling specific expectation methods on the `batch` object. They all begin with `.expect_` which makes autocompleting easy using tab.\n",
    "\n",
    "You can see all the available expectations in the **[expectation glossary](https://docs.greatexpectations.io/en/latest/reference/glossary_of_expectations.html?utm_source=notebook&utm_medium=create_expectations)**."
   ]
  },
  {
   "cell_type": "markdown",
   "id": "e047a152",
   "metadata": {},
   "source": [
    "### Table Expectation(s)"
   ]
  },
  {
   "cell_type": "code",
   "execution_count": null,
   "id": "c79a7e92",
   "metadata": {},
   "outputs": [],
   "source": [
    "batch.expect_table_row_count_to_be_between(max_value=1313, min_value=900)"
   ]
  },
  {
   "cell_type": "code",
   "execution_count": null,
   "id": "2f390064",
   "metadata": {},
   "outputs": [],
   "source": [
    "batch.expect_table_column_count_to_equal(value=8)"
   ]
  },
  {
   "cell_type": "code",
   "execution_count": null,
   "id": "9d007878",
   "metadata": {},
   "outputs": [],
   "source": [
    "batch.expect_table_columns_to_match_ordered_list(column_list=['user_id', 'pay_doc_type', 'pay_doc_num', 'account', 'phone', 'billing_period', 'pay_date', 'sum'])"
   ]
  },
  {
   "cell_type": "markdown",
   "id": "276b8b0c",
   "metadata": {},
   "source": [
    "### Column Expectation(s)"
   ]
  },
  {
   "cell_type": "markdown",
   "id": "dafff86d",
   "metadata": {},
   "source": [
    "#### `pay_doc_type`"
   ]
  },
  {
   "cell_type": "code",
   "execution_count": null,
   "id": "56393691",
   "metadata": {},
   "outputs": [],
   "source": [
    "batch.expect_column_values_to_not_be_null(column='pay_doc_type')"
   ]
  },
  {
   "cell_type": "code",
   "execution_count": null,
   "id": "9937e8b2",
   "metadata": {},
   "outputs": [],
   "source": [
    "batch.expect_column_distinct_values_to_be_in_set(column='pay_doc_type', value_set=['MASTER', 'MIR', 'VISA'])"
   ]
  },
  {
   "cell_type": "code",
   "execution_count": null,
   "id": "a9a950f8",
   "metadata": {},
   "outputs": [],
   "source": [
    "batch.expect_column_kl_divergence_to_be_less_than(column='pay_doc_type', partition_object={'values': ['MASTER', 'MIR', 'VISA'], 'weights': [0.347, 0.342, 0.311]}, threshold=0.6)"
   ]
  },
  {
   "cell_type": "markdown",
   "id": "2c0e3911",
   "metadata": {},
   "source": [
    "#### `pay_doc_num`"
   ]
  },
  {
   "cell_type": "code",
   "execution_count": null,
   "id": "841f9464",
   "metadata": {},
   "outputs": [],
   "source": [
    "batch.expect_column_values_to_not_be_null(column='pay_doc_num')"
   ]
  },
  {
   "cell_type": "code",
   "execution_count": null,
   "id": "4e38a8b6",
   "metadata": {},
   "outputs": [],
   "source": [
    "batch.expect_column_min_to_be_between(column='pay_doc_num', max_value=5, min_value=3)"
   ]
  },
  {
   "cell_type": "code",
   "execution_count": null,
   "id": "e5c05e47",
   "metadata": {},
   "outputs": [],
   "source": [
    "batch.expect_column_max_to_be_between(column='pay_doc_num', max_value=49990, min_value=49988)"
   ]
  },
  {
   "cell_type": "code",
   "execution_count": null,
   "id": "1dfe6437",
   "metadata": {},
   "outputs": [],
   "source": [
    "batch.expect_column_mean_to_be_between(column='pay_doc_num', max_value=25525.606, min_value=25523.606)"
   ]
  },
  {
   "cell_type": "code",
   "execution_count": null,
   "id": "bb72d01a",
   "metadata": {},
   "outputs": [],
   "source": [
    "batch.expect_column_median_to_be_between(column='pay_doc_num', max_value=25947.0, min_value=25945.0)"
   ]
  },
  {
   "cell_type": "code",
   "execution_count": null,
   "id": "593bde8c",
   "metadata": {},
   "outputs": [],
   "source": [
    "batch.expect_column_quantile_values_to_be_between(column='pay_doc_num', allow_relative_error=True, quantile_ranges={'quantiles': [0.05, 0.25, 0.5, 0.75, 0.95], 'value_ranges': [[3158, 3160], [12948, 12950], [25926, 25928], [38289, 38291], [47919, 47921]]})"
   ]
  },
  {
   "cell_type": "markdown",
   "id": "e1dad2ea",
   "metadata": {},
   "source": [
    "#### `account`"
   ]
  },
  {
   "cell_type": "code",
   "execution_count": null,
   "id": "7d9f1deb",
   "metadata": {},
   "outputs": [],
   "source": [
    "batch.expect_column_values_to_not_be_null(column='account')"
   ]
  },
  {
   "cell_type": "code",
   "execution_count": null,
   "id": "4eff374f",
   "metadata": {},
   "outputs": [],
   "source": [
    "batch.expect_column_value_lengths_to_be_between(column='account', min_value=1)"
   ]
  },
  {
   "cell_type": "markdown",
   "id": "d131d483",
   "metadata": {},
   "source": [
    "#### `billing_period`"
   ]
  },
  {
   "cell_type": "code",
   "execution_count": null,
   "id": "b05d74a8",
   "metadata": {},
   "outputs": [],
   "source": [
    "batch.expect_column_values_to_not_be_null(column='billing_period')"
   ]
  },
  {
   "cell_type": "code",
   "execution_count": null,
   "id": "40a8fc12",
   "metadata": {},
   "outputs": [],
   "source": [
    "batch.expect_column_values_to_be_between(column='billing_period', max_value='2022-03-01 00:00:00', min_value='2012-01-02 00:00:00', parse_strings_as_datetimes=True)"
   ]
  },
  {
   "cell_type": "markdown",
   "id": "e0a1edd1",
   "metadata": {},
   "source": [
    "## Save & Review Your Expectations\n",
    "\n",
    "Let's save the expectation suite as a JSON file in the `great_expectations/expectations` directory of your project.\n",
    "If you decide not to save some expectations that you created, use [remove_expectation method](https://docs.greatexpectations.io/en/latest/autoapi/great_expectations/data_asset/index.html?highlight=remove_expectation&utm_source=notebook&utm_medium=edit_expectations#great_expectations.data_asset.DataAsset.remove_expectation).\n",
    "\n",
    "Let's now rebuild your Data Docs, which helps you communicate about your data with both machines and humans."
   ]
  },
  {
   "cell_type": "code",
   "execution_count": null,
   "id": "e852f717",
   "metadata": {},
   "outputs": [],
   "source": [
    "batch.save_expectation_suite(discard_failed_expectations=False)\n",
    "\n",
    "results = LegacyCheckpoint(\n",
    "    name=\"_temp_checkpoint\",\n",
    "    data_context=context,\n",
    "    batches=[\n",
    "        {\n",
    "          \"batch_kwargs\": batch_kwargs,\n",
    "          \"expectation_suite_names\": [expectation_suite_name]\n",
    "        }\n",
    "    ]\n",
    ").run()\n",
    "validation_result_identifier = results.list_validation_result_identifiers()[0]\n",
    "context.build_data_docs()\n",
    "context.open_data_docs(validation_result_identifier)"
   ]
  }
 ],
 "metadata": {
  "kernelspec": {
   "display_name": "Python 3",
   "language": "python",
   "name": "python3"
  },
  "language_info": {
   "codemirror_mode": {
    "name": "ipython",
    "version": 3
   },
   "file_extension": ".py",
   "mimetype": "text/x-python",
   "name": "python",
   "nbconvert_exporter": "python",
   "pygments_lexer": "ipython3",
   "version": "3.8.6"
  }
 },
 "nbformat": 4,
 "nbformat_minor": 5
}
