{
 "cells": [
  {
   "cell_type": "markdown",
   "id": "791c73be",
   "metadata": {},
   "source": [
    "# Edit Your Expectation Suite\n",
    "Use this notebook to recreate and modify your expectation suite:\n",
    "\n",
    "**Expectation Suite Name**: `izykov.ods_billing.warning`\n",
    "\n",
    "We'd love it if you **reach out to us on** the [**Great Expectations Slack Channel**](https://greatexpectations.io/slack)"
   ]
  },
  {
   "cell_type": "code",
   "execution_count": null,
   "id": "7da10026",
   "metadata": {},
   "outputs": [],
   "source": [
    "import datetime\n",
    "import great_expectations as ge\n",
    "import great_expectations.jupyter_ux\n",
    "from great_expectations.checkpoint import LegacyCheckpoint\n",
    "from great_expectations.data_context.types.resource_identifiers import ValidationResultIdentifier\n",
    "\n",
    "context = ge.data_context.DataContext()\n",
    "\n",
    "# Feel free to change the name of your suite here. Renaming this will not\n",
    "# remove the other one.\n",
    "expectation_suite_name = \"izykov.ods_billing.warning\"\n",
    "suite = context.get_expectation_suite(expectation_suite_name)\n",
    "suite.expectations = []\n",
    "\n",
    "batch_kwargs = {'data_asset_name': 'izykov.ods_billing', 'datasource': 'greplu', 'limit': 1000, 'schema': 'izykov', 'table': 'p_ods_billing'}\n",
    "batch = context.get_batch(batch_kwargs, suite)\n",
    "batch.head()"
   ]
  },
  {
   "cell_type": "markdown",
   "id": "c3065585",
   "metadata": {},
   "source": [
    "## Create & Edit Expectations\n",
    "\n",
    "Add expectations by calling specific expectation methods on the `batch` object. They all begin with `.expect_` which makes autocompleting easy using tab.\n",
    "\n",
    "You can see all the available expectations in the **[expectation glossary](https://docs.greatexpectations.io/en/latest/reference/glossary_of_expectations.html?utm_source=notebook&utm_medium=create_expectations)**."
   ]
  },
  {
   "cell_type": "markdown",
   "id": "542f07de",
   "metadata": {},
   "source": [
    "### Table Expectation(s)"
   ]
  },
  {
   "cell_type": "markdown",
   "id": "4c1f596e",
   "metadata": {},
   "source": [
    "No table level expectations are in this suite. Feel free to add some here. They all begin with `batch.expect_table_...`."
   ]
  },
  {
   "cell_type": "markdown",
   "id": "2318da77",
   "metadata": {},
   "source": [
    "### Column Expectation(s)"
   ]
  },
  {
   "cell_type": "markdown",
   "id": "9c8804ff",
   "metadata": {},
   "source": [
    "#### `user_id`"
   ]
  },
  {
   "cell_type": "code",
   "execution_count": null,
   "id": "3c9817a8",
   "metadata": {},
   "outputs": [],
   "source": [
    "batch.expect_column_values_to_not_be_null(column='user_id')"
   ]
  },
  {
   "cell_type": "code",
   "execution_count": null,
   "id": "a1c39fcd",
   "metadata": {},
   "outputs": [],
   "source": [
    "batch.expect_column_values_to_be_of_type(column='user_id', type_='INTEGER')"
   ]
  },
  {
   "cell_type": "markdown",
   "id": "76df22e0",
   "metadata": {},
   "source": [
    "#### `billing_period`"
   ]
  },
  {
   "cell_type": "code",
   "execution_count": null,
   "id": "81de2ec5",
   "metadata": {},
   "outputs": [],
   "source": [
    "batch.expect_column_values_to_not_be_null(column='billing_period')"
   ]
  },
  {
   "cell_type": "code",
   "execution_count": null,
   "id": "f451dbb8",
   "metadata": {},
   "outputs": [],
   "source": [
    "batch.expect_column_values_to_be_of_type(column='billing_period', type_='DATE')"
   ]
  },
  {
   "cell_type": "code",
   "execution_count": null,
   "id": "4915aee1",
   "metadata": {},
   "outputs": [],
   "source": [
    "batch.expect_column_values_to_be_between(column='billing_period', max_value='2022-01-01', min_value='2012-01-01')"
   ]
  },
  {
   "cell_type": "markdown",
   "id": "4ab2c977",
   "metadata": {},
   "source": [
    "#### `service`"
   ]
  },
  {
   "cell_type": "code",
   "execution_count": null,
   "id": "312c9e15",
   "metadata": {},
   "outputs": [],
   "source": [
    "batch.expect_column_values_to_not_be_null(column='service')"
   ]
  },
  {
   "cell_type": "code",
   "execution_count": null,
   "id": "6ae38fa9",
   "metadata": {},
   "outputs": [],
   "source": [
    "batch.expect_column_values_to_be_of_type(column='service', type_='TEXT')"
   ]
  },
  {
   "cell_type": "markdown",
   "id": "a1296767",
   "metadata": {},
   "source": [
    "#### `tariff`"
   ]
  },
  {
   "cell_type": "code",
   "execution_count": null,
   "id": "721020c4",
   "metadata": {},
   "outputs": [],
   "source": [
    "batch.expect_column_values_to_not_be_null(column='tariff')"
   ]
  },
  {
   "cell_type": "code",
   "execution_count": null,
   "id": "cb86c1c4",
   "metadata": {},
   "outputs": [],
   "source": [
    "batch.expect_column_values_to_be_of_type(column='tariff', type_='TEXT')"
   ]
  },
  {
   "cell_type": "markdown",
   "id": "8ebc8ee4",
   "metadata": {},
   "source": [
    "#### `sum`"
   ]
  },
  {
   "cell_type": "code",
   "execution_count": null,
   "id": "e9f6cbc0",
   "metadata": {},
   "outputs": [],
   "source": [
    "batch.expect_column_values_to_not_be_null(column='sum')"
   ]
  },
  {
   "cell_type": "code",
   "execution_count": null,
   "id": "b84b474a",
   "metadata": {},
   "outputs": [],
   "source": [
    "batch.expect_column_values_to_be_of_type(column='sum', type_='INTEGER')"
   ]
  },
  {
   "cell_type": "code",
   "execution_count": null,
   "id": "8c7fb058",
   "metadata": {},
   "outputs": [],
   "source": [
    "batch.expect_column_values_to_be_between(column='sum', max_value=999999999, min_value=0)"
   ]
  },
  {
   "cell_type": "markdown",
   "id": "0dd23f5f",
   "metadata": {},
   "source": [
    "#### `created_at`"
   ]
  },
  {
   "cell_type": "code",
   "execution_count": null,
   "id": "fb408dca",
   "metadata": {},
   "outputs": [],
   "source": [
    "batch.expect_column_values_to_not_be_null(column='created_at')"
   ]
  },
  {
   "cell_type": "code",
   "execution_count": null,
   "id": "7038f8a2",
   "metadata": {},
   "outputs": [],
   "source": [
    "batch.expect_column_values_to_be_of_type(column='created_at', type_='DATE')"
   ]
  },
  {
   "cell_type": "code",
   "execution_count": null,
   "id": "649ec48c",
   "metadata": {},
   "outputs": [],
   "source": [
    "batch.expect_column_values_to_be_between(column='created_at', max_value='2022-01-01', min_value='2012-01-01')"
   ]
  },
  {
   "cell_type": "markdown",
   "id": "81c52994",
   "metadata": {},
   "source": [
    "## Save & Review Your Expectations\n",
    "\n",
    "Let's save the expectation suite as a JSON file in the `great_expectations/expectations` directory of your project.\n",
    "If you decide not to save some expectations that you created, use [remove_expectation method](https://docs.greatexpectations.io/en/latest/autoapi/great_expectations/data_asset/index.html?highlight=remove_expectation&utm_source=notebook&utm_medium=edit_expectations#great_expectations.data_asset.DataAsset.remove_expectation).\n",
    "\n",
    "Let's now rebuild your Data Docs, which helps you communicate about your data with both machines and humans."
   ]
  },
  {
   "cell_type": "code",
   "execution_count": null,
   "id": "8f02086a",
   "metadata": {},
   "outputs": [],
   "source": [
    "batch.save_expectation_suite(discard_failed_expectations=False)\n",
    "\n",
    "results = LegacyCheckpoint(\n",
    "    name=\"_temp_checkpoint\",\n",
    "    data_context=context,\n",
    "    batches=[\n",
    "        {\n",
    "          \"batch_kwargs\": batch_kwargs,\n",
    "          \"expectation_suite_names\": [expectation_suite_name]\n",
    "        }\n",
    "    ]\n",
    ").run()\n",
    "validation_result_identifier = results.list_validation_result_identifiers()[0]\n",
    "context.build_data_docs()\n",
    "context.open_data_docs(validation_result_identifier)"
   ]
  }
 ],
 "metadata": {},
 "nbformat": 4,
 "nbformat_minor": 5
}
