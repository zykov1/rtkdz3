{
 "cells": [
  {
   "cell_type": "markdown",
   "id": "8d9c420d",
   "metadata": {},
   "source": [
    "# Edit Your Expectation Suite\n",
    "Use this notebook to recreate and modify your expectation suite:\n",
    "\n",
    "**Expectation Suite Name**: `izykov.ods_traffic.warning`\n",
    "\n",
    "We'd love it if you **reach out to us on** the [**Great Expectations Slack Channel**](https://greatexpectations.io/slack)"
   ]
  },
  {
   "cell_type": "code",
   "execution_count": null,
   "id": "606188f2",
   "metadata": {},
   "outputs": [
    {
     "name": "stdout",
     "output_type": "stream",
     "text": [
      "2021-05-24T17:20:41+0300 - INFO - Great Expectations logging enabled at 20 level by JupyterUX module.\n",
      "2021-05-24T17:20:43+0300 - INFO - Generating query from table batch_kwargs based on limit and offset\n"
     ]
    }
   ],
   "source": [
    "import datetime\n",
    "import great_expectations as ge\n",
    "import great_expectations.jupyter_ux\n",
    "from great_expectations.checkpoint import LegacyCheckpoint\n",
    "from great_expectations.data_context.types.resource_identifiers import ValidationResultIdentifier\n",
    "\n",
    "context = ge.data_context.DataContext()\n",
    "\n",
    "# Feel free to change the name of your suite here. Renaming this will not\n",
    "# remove the other one.\n",
    "expectation_suite_name = \"izykov.ods_traffic.warning\"\n",
    "suite = context.get_expectation_suite(expectation_suite_name)\n",
    "suite.expectations = []\n",
    "\n",
    "batch_kwargs = {'data_asset_name': 'izykov.ods_traffic', 'datasource': 'greplu', 'limit': 1000, 'schema': 'izykov', 'table': 'p_ods_traffic'}\n",
    "batch = context.get_batch(batch_kwargs, suite)\n",
    "batch.head()"
   ]
  },
  {
   "cell_type": "markdown",
   "id": "d8c1dc45",
   "metadata": {},
   "source": [
    "## Create & Edit Expectations\n",
    "\n",
    "Add expectations by calling specific expectation methods on the `batch` object. They all begin with `.expect_` which makes autocompleting easy using tab.\n",
    "\n",
    "You can see all the available expectations in the **[expectation glossary](https://docs.greatexpectations.io/en/latest/reference/glossary_of_expectations.html?utm_source=notebook&utm_medium=create_expectations)**."
   ]
  },
  {
   "cell_type": "markdown",
   "id": "e6c73218",
   "metadata": {},
   "source": [
    "### Table Expectation(s)"
   ]
  },
  {
   "cell_type": "markdown",
   "id": "68224df1",
   "metadata": {},
   "source": [
    "No table level expectations are in this suite. Feel free to add some here. They all begin with `batch.expect_table_...`."
   ]
  },
  {
   "cell_type": "markdown",
   "id": "620aa4ab",
   "metadata": {},
   "source": [
    "### Column Expectation(s)"
   ]
  },
  {
   "cell_type": "markdown",
   "id": "9045a757",
   "metadata": {},
   "source": [
    "#### `user_id`"
   ]
  },
  {
   "cell_type": "code",
   "execution_count": null,
   "id": "53aeb8df",
   "metadata": {},
   "outputs": [],
   "source": [
    "batch.expect_column_values_to_not_be_null(column='user_id')"
   ]
  },
  {
   "cell_type": "code",
   "execution_count": null,
   "id": "0b4aa3a3",
   "metadata": {},
   "outputs": [],
   "source": [
    "batch.expect_column_values_to_be_of_type(column='user_id', type_='INTEGER')"
   ]
  },
  {
   "cell_type": "markdown",
   "id": "e7b7c38f",
   "metadata": {},
   "source": [
    "#### `time_stamp`"
   ]
  },
  {
   "cell_type": "code",
   "execution_count": null,
   "id": "a18a8dd6",
   "metadata": {},
   "outputs": [],
   "source": [
    "batch.expect_column_values_to_be_of_type(column='timestamp', type_='TIMESTAMP')"
   ]
  },
  {
   "cell_type": "code",
   "execution_count": null,
   "id": "526590dd",
   "metadata": {},
   "outputs": [],
   "source": [
    "batch.expect_column_values_to_be_between(column='timestamp', max_value='2022-01-01', min_value='2012-01-01')"
   ]
  },
  {
   "cell_type": "markdown",
   "id": "b449792f",
   "metadata": {},
   "source": [
    "#### `device_id`"
   ]
  },
  {
   "cell_type": "code",
   "execution_count": null,
   "id": "1a6b444a",
   "metadata": {},
   "outputs": [],
   "source": [
    "batch.expect_column_values_to_not_be_null(column='device_id')"
   ]
  },
  {
   "cell_type": "code",
   "execution_count": null,
   "id": "059405fd",
   "metadata": {},
   "outputs": [],
   "source": [
    "batch.expect_column_values_to_be_of_type(column='device_id', type_='TEXT')"
   ]
  },
  {
   "cell_type": "code",
   "execution_count": null,
   "id": "bf695fdb",
   "metadata": {},
   "outputs": [],
   "source": [
    "batch.expect_column_values_to_match_regex(column='device_id', regex='^d\\d{3}$')"
   ]
  },
  {
   "cell_type": "markdown",
   "id": "4bf67ae3",
   "metadata": {},
   "source": [
    "#### `device_ip_addr`"
   ]
  },
  {
   "cell_type": "code",
   "execution_count": null,
   "id": "ec7c2067",
   "metadata": {},
   "outputs": [],
   "source": [
    "batch.expect_column_values_to_not_be_null(column='device_ip_addr')"
   ]
  },
  {
   "cell_type": "code",
   "execution_count": null,
   "id": "781b48d4",
   "metadata": {},
   "outputs": [],
   "source": [
    "batch.expect_column_values_to_be_of_type(column='device_ip_addr', type_='INET')"
   ]
  },
  {
   "cell_type": "markdown",
   "id": "6ee3610a",
   "metadata": {},
   "source": [
    "#### `bytes_received`"
   ]
  },
  {
   "cell_type": "code",
   "execution_count": null,
   "id": "505fee48",
   "metadata": {},
   "outputs": [],
   "source": [
    "batch.expect_column_values_to_be_of_type(column='bytes_received', type_='BIGINT')"
   ]
  },
  {
   "cell_type": "markdown",
   "id": "d250f309",
   "metadata": {},
   "source": [
    "#### `bytes_sent`"
   ]
  },
  {
   "cell_type": "code",
   "execution_count": null,
   "id": "87405bcf",
   "metadata": {},
   "outputs": [],
   "source": [
    "batch.expect_column_values_to_be_of_type(column='bytes_sent', type_='BIGINT')"
   ]
  },
  {
   "cell_type": "markdown",
   "id": "a10cce53",
   "metadata": {},
   "source": [
    "## Save & Review Your Expectations\n",
    "\n",
    "Let's save the expectation suite as a JSON file in the `great_expectations/expectations` directory of your project.\n",
    "If you decide not to save some expectations that you created, use [remove_expectation method](https://docs.greatexpectations.io/en/latest/autoapi/great_expectations/data_asset/index.html?highlight=remove_expectation&utm_source=notebook&utm_medium=edit_expectations#great_expectations.data_asset.DataAsset.remove_expectation).\n",
    "\n",
    "Let's now rebuild your Data Docs, which helps you communicate about your data with both machines and humans."
   ]
  },
  {
   "cell_type": "code",
   "execution_count": null,
   "id": "f018a927",
   "metadata": {},
   "outputs": [],
   "source": [
    "batch.save_expectation_suite(discard_failed_expectations=False)\n",
    "\n",
    "results = LegacyCheckpoint(\n",
    "    name=\"_temp_checkpoint\",\n",
    "    data_context=context,\n",
    "    batches=[\n",
    "        {\n",
    "          \"batch_kwargs\": batch_kwargs,\n",
    "          \"expectation_suite_names\": [expectation_suite_name]\n",
    "        }\n",
    "    ]\n",
    ").run()\n",
    "validation_result_identifier = results.list_validation_result_identifiers()[0]\n",
    "context.build_data_docs()\n",
    "context.open_data_docs(validation_result_identifier)"
   ]
  }
 ],
 "metadata": {
  "kernelspec": {
   "display_name": "Python 3",
   "language": "python",
   "name": "python3"
  },
  "language_info": {
   "codemirror_mode": {
    "name": "ipython",
    "version": 3
   },
   "file_extension": ".py",
   "mimetype": "text/x-python",
   "name": "python",
   "nbconvert_exporter": "python",
   "pygments_lexer": "ipython3",
   "version": "3.8.6"
  }
 },
 "nbformat": 4,
 "nbformat_minor": 5
}
